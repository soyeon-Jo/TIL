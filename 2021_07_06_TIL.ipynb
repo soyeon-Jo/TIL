{
 "cells": [
  {
   "cell_type": "markdown",
   "id": "8901948f",
   "metadata": {},
   "source": [
    "참고: https://untitledtblog.tistory.com/169\n",
    "### 1.라이브러리 불러오기\n",
    "API를 받아 왔다면 라이브러리를 불러온다.<br>\n",
    "그 전에 Google API 사용이 처음이라면 pip 명령어를 이용하여 라이브러리를 다운받는다.<br>\n",
    "\n",
    "```pip install google-api-python-client```\n",
    "\n",
    "- pandas: 수집한 댓글을 엑셀의 형태로 저장하기 위한 라이브러리\n",
    "- googleapiclient.discovery의 build: Google API를 호출하기 위한 객체를 지원하는 라이브러리"
   ]
  },
  {
   "cell_type": "code",
   "execution_count": 2,
   "id": "c8ff8fab",
   "metadata": {},
   "outputs": [],
   "source": [
    "import pandas\n",
    "from googleapiclient.discovery import build"
   ]
  },
  {
   "cell_type": "markdown",
   "id": "68d3bac4",
   "metadata": {},
   "source": [
    "- comments: 수집한 댓글 저장. <br>\n",
    "- build 함수를 이용하여 Google API 객체를 생성.<br>\n",
    "build 함수에 이용된 api_key에는 발급 받은 API 키를 입력.\n",
    "- API 객체를 호출. <br>\n",
    " video_id에는 댓글을 수집하고자 하는 YouTube 동영상의 id를 입력. <br>\n",
    "API를 호출하면 response 변수에 전달 받은 데이터가 저장된다."
   ]
  },
  {
   "cell_type": "code",
   "execution_count": 8,
   "id": "1cdd5a50",
   "metadata": {},
   "outputs": [],
   "source": [
    "comments = list()\n",
    "api_obj = build('youtube', 'v3', developerKey='받은 api 입력')\n",
    "response = api_obj.commentThreads().list(part='snippet,replies',videoId='divunuWDwqo', maxResults=100).execute()"
   ]
  },
  {
   "cell_type": "markdown",
   "id": "8e8b0386",
   "metadata": {},
   "source": [
    "#### 댓글을 저장하고 API를 반복적으로 호출. \n",
    "- textDisplay: 댓글의 내용\n",
    "- authorDisplayName: 댓글 작성자\n",
    "- publishedAt: 댓글 작성 시간\n",
    "- likeCount: 좋아요 수\n",
    "\n",
    "*6-10번째 줄에서는 댓글에 대한 댓글 (reply)이 있는 경우에 reply도 같이 수집하는 코드. \n",
    "마지막으로, 11~15번째 줄에서는 동영상에서 가져올 댓글이 아직 남은 경우에 nextPageToken을 기반으로 API를 다시 호출한다.\n",
    "반복적인 API 호출을 통해 수집된 댓글은 앞에서 선언한 comments라는 변수에 저장된다.*"
   ]
  },
  {
   "cell_type": "code",
   "execution_count": 9,
   "id": "7a5a88d6",
   "metadata": {},
   "outputs": [],
   "source": [
    "while response:\n",
    "    for item in response['items']:\n",
    "        comment = item['snippet']['topLevelComment']['snippet']\n",
    "        comments.append([comment['textDisplay'], comment['authorDisplayName'], comment['publishedAt'], comment['likeCount']])\n",
    " \n",
    "        if item['snippet']['totalReplyCount'] > 0:\n",
    "            for reply_item in item['replies']['comments']:\n",
    "                reply = reply_item['snippet']\n",
    "                comments.append([reply['textDisplay'], reply['authorDisplayName'], reply['publishedAt'], reply['likeCount']])\n",
    " \n",
    "    if 'nextPageToken' in response:\n",
    "        response = api_obj.commentThreads().list(part='snippet,replies', videoId='divunuWDwqo', pageToken=response['nextPageToken'], maxResults=100).execute()\n",
    "    else:\n",
    "        break\n"
   ]
  },
  {
   "cell_type": "markdown",
   "id": "b9fc985c",
   "metadata": {},
   "source": [
    "pandas 라이브러리를 이용하여 comments에 수집된 댓글을 엑셀 파일로 저장"
   ]
  },
  {
   "cell_type": "code",
   "execution_count": 14,
   "id": "d8712399",
   "metadata": {},
   "outputs": [],
   "source": [
    "df = pandas.DataFrame(comments)\n",
    "df.to_csv('results.xlsx', header=['comment', 'author', 'date', 'num_likes'],  encoding = 'utf-8')"
   ]
  },
  {
   "cell_type": "code",
   "execution_count": null,
   "id": "282cc29e",
   "metadata": {},
   "outputs": [],
   "source": []
  }
 ],
 "metadata": {
  "kernelspec": {
   "display_name": "Python 3",
   "language": "python",
   "name": "python3"
  },
  "language_info": {
   "codemirror_mode": {
    "name": "ipython",
    "version": 3
   },
   "file_extension": ".py",
   "mimetype": "text/x-python",
   "name": "python",
   "nbconvert_exporter": "python",
   "pygments_lexer": "ipython3",
   "version": "3.8.8"
  }
 },
 "nbformat": 4,
 "nbformat_minor": 5
}
