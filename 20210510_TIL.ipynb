{
 "cells": [
  {
   "cell_type": "markdown",
   "metadata": {},
   "source": [
    "# HackerRank_Medium(python)\n",
    "\n",
    "### Validating Email Addresses With a Filter\n",
    "\n",
    "You are given a spreadsheet that contains a list of **N**  athletes and their details (such as age, height, weight and so on). You are required to sort the data based on the **K**th attribute and print the final resulting table. Follow the example given below for better understanding.\n",
    "\n",
    "\n"
   ]
  },
  {
   "cell_type": "raw",
   "metadata": {},
   "source": [
    "  Rank Age Height (in cm)         Rank Age Height\n",
    "    1   32   190                    5   24  176\n",
    "    2   35   175                    4   26  195\n",
    "    3   41   188          ---->    1    32  190\n",
    "    4   26   195                    2   35  175\n",
    "    5   24   176                    3   41  188"
   ]
  },
  {
   "cell_type": "markdown",
   "metadata": {},
   "source": [
    "Note that **K**  is indexed from  **0**to , where **M**  is the number of attributes.\n",
    "\n",
    "**Note**: If two attributes are the same for different rows, for example, if two atheletes are of the same age, print the row that appeared first in the input.\n",
    "\n",
    "**Input Format**\n",
    "\n",
    "The first line contains **N** and **M** separated by a space.\n",
    "The next **N** lines each contain **M** elements.\n",
    "The last line contains **K**.\n",
    "\n",
    "**Constraints**\n",
    "1 <= N,M <= 1000\n",
    "0 <= K < M\n",
    "Each element <= 1000 \n",
    "\n",
    "**Output Format**\n",
    "Print the **N** lines of the sorted table. Each line should contain the space separated elements. Check the sample below for clarity.\n",
    "\n",
    "**Sample Input 0**\n",
    "5 3\n",
    "10 2 5\n",
    "7 1 0\n",
    "9 9 9\n",
    "1 23 12\n",
    "6 5 9\n",
    "1\n",
    "\n",
    "**Sample Output 0**\n",
    "\n",
    "7 1 0\n",
    "10 2 5\n",
    "6 5 9\n",
    "9 9 9\n",
    "1 23 12\n",
    "\n",
    "***Explanation 0\n",
    "The details are sorted based on the second attribute, since  is zero-indexed***"
   ]
  },
  {
   "cell_type": "code",
   "execution_count": 15,
   "metadata": {},
   "outputs": [
    {
     "name": "stdout",
     "output_type": "stream",
     "text": [
      "5 3\n",
      "10 2 5\n",
      "7 1 0\n",
      "9 9 9\n",
      "1 23 12\n",
      "6 5 9\n",
      "1\n",
      "7 1 0\n",
      "10 2 5\n",
      "6 5 9\n",
      "9 9 9\n",
      "1 23 12\n"
     ]
    }
   ],
   "source": [
    "N,M = map(int, input().split())\n",
    "rows = [input() for i in range(N)]\n",
    "K = int(input())\n",
    "\n",
    "for row in sorted(rows, key = lambda row: int(row.split()[K])):\n",
    "    print(row)"
   ]
  },
  {
   "cell_type": "markdown",
   "metadata": {},
   "source": [
    "## Time Delta\n",
    "\n",
    "You and Fredrick are good friends. Yesterday, Fredrick received **N**  credit cards from ABCD Bank. He wants to verify whether his credit card numbers are valid or not. You happen to be great at regex so he is asking for your help!\n",
    "\n",
    "A valid credit card from ABCD Bank has the following characteristics:\n",
    "\n",
    "► It must start with a **4, 5 or 6**.<br>\n",
    "► It must contain exactly **16** digits.<br>\n",
    "► It must only consist of digits (**0-9**).<br>\n",
    "► It may have digits in groups of **4**, separated by one hyphen **\"-\"**.<br>\n",
    "► It must NOT use any other separator like ' ' , '_', etc.<br>\n",
    "► It must NOT have **4** or more consecutive repeated digits.<br>\n",
    "\n",
    "\n"
   ]
  },
  {
   "cell_type": "markdown",
   "metadata": {},
   "source": [
    "**Examples**:\n",
    "\n",
    "- Valid Credit Card Numbers\n",
    "\n",
    "```\n",
    "4253625879615786\n",
    "4424424424442444\n",
    "5122-2368-7954-3214\n",
    "```\n",
    "\n",
    "- Invalid Credit Card Numbers\n",
    "\n",
    "```\n",
    "42536258796157867       #17 digits in card number  → Invalid \n",
    "4424444424442444        #Consecutive digits are repeating 4 or more times                                                               → Invalid\n",
    "5122-2368-7954 - 3214   #Separators other than '-' are used → Invalid\n",
    "44244x4424442444        #Contains non digit characters → Invalid\n",
    "0525362587961578        #Doesn't start with 4, 5 or 6 → Invalid\n",
    "```\n",
    "\n",
    "**Input Format**\n",
    "\n",
    "The first line of input contains an integer **N**.\n",
    "The next **N** lines contain credit card numbers.\n",
    "\n",
    "**Constraints**\n",
    "0<N<100\n",
    "\n",
    "**Output Format**\n",
    "\n",
    "Print 'Valid' if the credit card number is valid. Otherwise, print 'Invalid'. Do not print the quotes.\n",
    "\n",
    "**Sample Input**\n",
    "```\n",
    "6\n",
    "4123456789123456\n",
    "5123-4567-8912-3456\n",
    "61234-567-8912-3456\n",
    "4123356789123456\n",
    "5133-3367-8912-3456\n",
    "5123 - 3567 - 8912 - 3456\n",
    "```\n",
    "\n",
    "**Sample Output**\n",
    "```\n",
    "Valid\n",
    "Valid\n",
    "Invalid\n",
    "Valid\n",
    "Invalid\n",
    "Invalid\n",
    "```\n",
    "\n",
    "**Explanation**\n",
    "\n",
    "4123456789123456 : **Valid**<br>\n",
    "5123-4567-8912-3456 : **Valid**<br>\n",
    "61234--8912-3456 : **Invalid**, because the card number is not divided into equal groups of **4** .<br>\n",
    "4123356789123456 : **Valid**<br>\n",
    "51-67-8912-3456 : **Invalid**, consecutive digits  **3333**is repeating  **4** times.<br>\n",
    "5123456789123456 : **Invalid**, because space '  ' and - are used as separators."
   ]
  },
  {
   "cell_type": "code",
   "execution_count": null,
   "metadata": {},
   "outputs": [],
   "source": [
    "import re\n",
    "\n",
    "\n",
    "for _ in range(int(input())):\n",
    "    s = input()\n",
    "\n",
    "    if re.match(r\"^[456]([\\d]{15}|[\\d]{3}(-[\\d]{4}){3})$\", s) \n",
    "    and not re.search(r\"([\\d])\\1\\1\\1\", s.replace(\"-\", \"\")):\n",
    "        print(\"Valid\")\n",
    "    else:\n",
    "        print(\"Invalid\")"
   ]
  },
  {
   "cell_type": "markdown",
   "metadata": {},
   "source": [
    "- 코드 분해하기"
   ]
  },
  {
   "cell_type": "raw",
   "metadata": {},
   "source": [
    "^ 시작 [456]중에 하나로 \n",
    "([\\d]{15} 숫자 15개 \n",
    " | 이거나\n",
    " [\\d]{3}숫자 3개 반복 (-[\\d]{4}숫자 4개 ) {3}숫자 3개 반복)$ 끝"
   ]
  },
  {
   "cell_type": "raw",
   "metadata": {},
   "source": [
    "(r\"([\\d]숫자)\\1\\1\\1\"숫자가 4번이상 반복, s.replace(\"-\", \"\")-를 공백으로)"
   ]
  }
 ],
 "metadata": {
  "kernelspec": {
   "display_name": "Python 3",
   "language": "python",
   "name": "python3"
  },
  "language_info": {
   "codemirror_mode": {
    "name": "ipython",
    "version": 3
   },
   "file_extension": ".py",
   "mimetype": "text/x-python",
   "name": "python",
   "nbconvert_exporter": "python",
   "pygments_lexer": "ipython3",
   "version": "3.8.3"
  }
 },
 "nbformat": 4,
 "nbformat_minor": 4
}
