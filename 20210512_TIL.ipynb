{
 "cells": [
  {
   "cell_type": "markdown",
   "metadata": {},
   "source": [
    "## 20210512_TIL\n",
    "\n",
    "# 정규표현식 기초 다지기\n",
    "## <u>문자 찾기</u>\n",
    "### - search 함수"
   ]
  },
  {
   "cell_type": "code",
   "execution_count": 1,
   "metadata": {},
   "outputs": [],
   "source": [
    "# re 라이브러리 가져오기\n",
    "import re"
   ]
  },
  {
   "cell_type": "code",
   "execution_count": 8,
   "metadata": {},
   "outputs": [],
   "source": [
    "#원하는 문구 찾기\n",
    "want = 'life' #찾고 싶은 문구\n",
    "script = 'life is beautiful, Python will make your life better' #문구를 찾을 대상"
   ]
  },
  {
   "cell_type": "code",
   "execution_count": 9,
   "metadata": {},
   "outputs": [
    {
     "name": "stdout",
     "output_type": "stream",
     "text": [
      "life\n"
     ]
    }
   ],
   "source": [
    "# search 사용하기\n",
    "result = re.search(want, script).group()\n",
    "print(result)"
   ]
  },
  {
   "cell_type": "markdown",
   "metadata": {},
   "source": [
    "### - findall 함수"
   ]
  },
  {
   "cell_type": "code",
   "execution_count": 10,
   "metadata": {},
   "outputs": [
    {
     "name": "stdout",
     "output_type": "stream",
     "text": [
      "['life', 'life']\n"
     ]
    }
   ],
   "source": [
    "result = re.findall(want, script)\n",
    "print(result)"
   ]
  },
  {
   "cell_type": "markdown",
   "metadata": {},
   "source": [
    "## <u>문자, 숫자 빼기</u>\n",
    "\n",
    "### 문자 지우기\n",
    "```\\W``` : 문자&숫자를 뺀 나머지"
   ]
  },
  {
   "cell_type": "code",
   "execution_count": 15,
   "metadata": {},
   "outputs": [
    {
     "name": "stdout",
     "output_type": "stream",
     "text": [
      "[' ', ' ', ' ', '-', '-', ' ', '.']\n"
     ]
    }
   ],
   "source": [
    "import re\n",
    "\n",
    "pattern = '\\W' # 문자&숫자를 뺀 나머지\n",
    "script = '나의 핸드폰 번호는 010-1234-5678 입니다.'\n",
    "\n",
    "result = re.findall(pattern, script)\n",
    "print(result)"
   ]
  },
  {
   "cell_type": "markdown",
   "metadata": {},
   "source": [
    "### 문자와 숫자만 남기기\n",
    "```\\w``` : 문자랑 숫자만 "
   ]
  },
  {
   "cell_type": "code",
   "execution_count": 18,
   "metadata": {},
   "outputs": [
    {
     "name": "stdout",
     "output_type": "stream",
     "text": [
      "['나', '의', '핸', '드', '폰', '번', '호', '는', '0', '1', '0', '1', '2', '3', '4', '5', '6', '7', '8', '입', '니', '다']\n"
     ]
    }
   ],
   "source": [
    "import re\n",
    "\n",
    "pattern = '\\w' #문자&숫자 만\n",
    "script = '나의 핸드폰 번호는 010-1234-5678 입니다.'\n",
    "\n",
    "result = re.findall(pattern, script)\n",
    "print(result)\n",
    "\n"
   ]
  },
  {
   "cell_type": "markdown",
   "metadata": {},
   "source": [
    "### 단어별로 출력하기\n",
    "```\\w+```: 문자나 숫자가 아닌 것이 나오면 끊어라(문자/숫자가 아닌 것은 지워라)"
   ]
  },
  {
   "cell_type": "code",
   "execution_count": 19,
   "metadata": {},
   "outputs": [
    {
     "name": "stdout",
     "output_type": "stream",
     "text": [
      "['나의', '핸드폰', '번호는', '010', '1234', '5678', '입니다']\n"
     ]
    }
   ],
   "source": [
    "pattern = '\\w+' \n",
    "script = '나의 핸드폰 번호는 010-1234-5678 입니다.'\n",
    "\n",
    "result = re.findall(pattern, script)\n",
    "print(result)\n"
   ]
  },
  {
   "cell_type": "markdown",
   "metadata": {},
   "source": [
    "## <u>숫자 찾기</u>\n",
    "\n",
    "### 숫자\n",
    "```\\d```: 숫자\n"
   ]
  },
  {
   "cell_type": "code",
   "execution_count": 20,
   "metadata": {},
   "outputs": [],
   "source": [
    "pattern = '\\d' #숫자\n",
    "script = '나의 핸드폰 번호는 010-1234-5678 입니다.'"
   ]
  },
  {
   "cell_type": "markdown",
   "metadata": {},
   "source": [
    "### 숫자 빼고 나머지\n",
    "```\\D```: 숫자를 <u>뺀</u> 나머지"
   ]
  },
  {
   "cell_type": "code",
   "execution_count": 21,
   "metadata": {},
   "outputs": [
    {
     "name": "stdout",
     "output_type": "stream",
     "text": [
      "['나', '의', ' ', '핸', '드', '폰', ' ', '번', '호', '는', ' ', '-', '-', ' ', '입', '니', '다', '.']\n"
     ]
    }
   ],
   "source": [
    "pattern = '\\D' \n",
    "script = '나의 핸드폰 번호는 010-1234-5678 입니다.'\n",
    "\n",
    "result = re.findall(pattern, script)\n",
    "print(result)"
   ]
  },
  {
   "cell_type": "markdown",
   "metadata": {},
   "source": [
    "## <u>~로 끝나는 단어 찾기</u>\n",
    "```\\w+a```: \\w문자 또는 숫자에 +a<-은 a으로 끝난다.\n"
   ]
  },
  {
   "cell_type": "code",
   "execution_count": 22,
   "metadata": {},
   "outputs": [
    {
     "name": "stdout",
     "output_type": "stream",
     "text": [
      "['이의동', '우만동']\n"
     ]
    }
   ],
   "source": [
    "pattern = '\\w+동'\n",
    "script = '나는 이의동에 삽니다. 친구는 우만동에 삽니다.'\n",
    "\n",
    "result = re.findall(pattern, script)\n",
    "print(result)\n",
    "\n"
   ]
  },
  {
   "cell_type": "markdown",
   "metadata": {},
   "source": [
    "## <u>Split(문장 쪼개기)</u>\n",
    "```split()```\n",
    ": pattern을 기준으로 양옆으로 나눕니다. 그리고 pattern은 삭제\n",
    "\n",
    "\n"
   ]
  },
  {
   "cell_type": "code",
   "execution_count": 23,
   "metadata": {},
   "outputs": [
    {
     "name": "stdout",
     "output_type": "stream",
     "text": [
      "['나는 이의', '에 삽니다. 친구는 우만', '에 삽니다.']\n"
     ]
    }
   ],
   "source": [
    "pattern = '동'\n",
    "script = '나는 이의동에 삽니다. 친구는 우만동에 삽니다.'\n",
    "\n",
    "result = re.split(pattern, script)\n",
    "print(result)\n",
    "\n",
    "\n"
   ]
  },
  {
   "cell_type": "markdown",
   "metadata": {},
   "source": [
    "### - 마침표 기준으로 자르기\n",
    "```\\.```: 마침표<br>\n",
    "```r'\\.'```: 마침표 기준으로 자르기"
   ]
  },
  {
   "cell_type": "code",
   "execution_count": 24,
   "metadata": {},
   "outputs": [
    {
     "name": "stdout",
     "output_type": "stream",
     "text": [
      "['나는 이의동에 삽니다', ' 친구는 우만동에 삽니다', '']\n"
     ]
    }
   ],
   "source": [
    "pattern = r'\\.'\n",
    "script = '나는 이의동에 삽니다. 친구는 우만동에 삽니다.'\n",
    "\n",
    "result = re.split(pattern, script)\n",
    "print(result)\n"
   ]
  },
  {
   "cell_type": "markdown",
   "metadata": {},
   "source": [
    "## <u> 글자 바꾸기 </u>\n",
    "```sub()```"
   ]
  },
  {
   "cell_type": "code",
   "execution_count": 25,
   "metadata": {},
   "outputs": [
    {
     "name": "stdout",
     "output_type": "stream",
     "text": [
      "나는 서초구에 삽니다. 친구는 송파구에 삽니다.\n"
     ]
    }
   ],
   "source": [
    "pattern = '동'\n",
    "sub_word = '구'\n",
    "script = '나는 서초동에 삽니다. 친구는 송파동에 삽니다.'\n",
    "\n",
    "result = re.sub(pattern, sub_word, script)\n",
    "print(result)\n",
    "\n"
   ]
  },
  {
   "cell_type": "code",
   "execution_count": 26,
   "metadata": {},
   "outputs": [
    {
     "name": "stdout",
     "output_type": "stream",
     "text": [
      "나는 서초동에 삽니다? 친구는 송파동에 삽니다?\n"
     ]
    }
   ],
   "source": [
    "pattern = '\\.'\n",
    "sub_word = '?'\n",
    "script = '나는 서초동에 삽니다. 친구는 송파동에 삽니다.'\n",
    "\n",
    "result = re.sub(pattern, sub_word, script)\n",
    "print(result)\n"
   ]
  },
  {
   "cell_type": "markdown",
   "metadata": {},
   "source": [
    "# *정규 표현식 정리*\n",
    "```\\W``` : 문자&숫자를 뺀 나머지<br>\n",
    "```\\w``` : 문자랑 숫자만<br>\n",
    "```\\w+```: 문자나 숫자가 아닌 것이 나오면 끊어라(문자/숫자가 아닌 것은 지워라)<br>\n",
    "```\\D```: 숫자를 뺀 나머지<br>\n",
    "```\\d```: 숫자<br>\n",
    "```\\w+a```: \\w문자 또는 숫자에 +a<-은 a으로 끝난다.<br>\n",
    "```\\.```: 마침표<br>\n",
    "```r'\\.'```: 마침표 기준으로 자르기<br>"
   ]
  },
  {
   "cell_type": "code",
   "execution_count": null,
   "metadata": {},
   "outputs": [],
   "source": []
  }
 ],
 "metadata": {
  "kernelspec": {
   "display_name": "Python 3",
   "language": "python",
   "name": "python3"
  },
  "language_info": {
   "codemirror_mode": {
    "name": "ipython",
    "version": 3
   },
   "file_extension": ".py",
   "mimetype": "text/x-python",
   "name": "python",
   "nbconvert_exporter": "python",
   "pygments_lexer": "ipython3",
   "version": "3.8.3"
  }
 },
 "nbformat": 4,
 "nbformat_minor": 4
}
