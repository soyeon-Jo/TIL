{
 "cells": [
  {
   "cell_type": "markdown",
   "id": "e2ab1c70",
   "metadata": {},
   "source": [
    "## 파일 쓰기\n",
    "- ```\"w\"```: 파일을 쓰기(write)용도로 새로 열기, 기존 파일이 있다면 덮어씌워짐\n",
    "- ```\"a\"```: 파일의 뒤쪽에 이어쓰기(append)용도로 새로 열기\n",
    "- ```.write()```: print()함수와 비슷. 대신 따옴표 밖의 쉼표는 인자 구분으로 인식하기 때문에 쓰면 안된다. 마지막에 줄바꿈을 위해 \\n 필수\n"
   ]
  },
  {
   "cell_type": "code",
   "execution_count": 1,
   "id": "eb8c9bb0",
   "metadata": {},
   "outputs": [],
   "source": [
    "with open(\"test.txt\", \"w\", encoding=\"utf8\") as f:\n",
    "    for i in range(10):\n",
    "        f.write(str(i) + \"번째 줄입니다.\\n\")"
   ]
  },
  {
   "cell_type": "markdown",
   "id": "b8c70227",
   "metadata": {},
   "source": [
    "## 파일 읽기\n",
    "- ```r```: 파일 읽기(read)용도로 열기\n",
    "- ```encoding```: 한글이 깨질 경우가 있음\n",
    "\n",
    "*텍스트 파일을 리스트로 간주하면 요소 하나하나는 텍스트 한 줄이 된다.*<br>\n",
    "*경로를 적어야 할 경우 \\ 대신 / 또는 \\\\ 사용*"
   ]
  },
  {
   "cell_type": "code",
   "execution_count": 13,
   "id": "45874e03",
   "metadata": {},
   "outputs": [
    {
     "name": "stdout",
     "output_type": "stream",
     "text": [
      "0번째 줄입니다.\n",
      "1번째 줄입니다.\n",
      "2번째 줄입니다.\n",
      "3번째 줄입니다.\n",
      "4번째 줄입니다.\n",
      "5번째 줄입니다.\n",
      "6번째 줄입니다.\n",
      "7번째 줄입니다.\n",
      "8번째 줄입니다.\n",
      "9번째 줄입니다.\n"
     ]
    }
   ],
   "source": [
    "with open(\"test.txt\", \"r\", encoding=\"utf8\") as f:\n",
    "    for line in f:\n",
    "        print(line, end=\"\")"
   ]
  },
  {
   "cell_type": "markdown",
   "id": "42930c00",
   "metadata": {},
   "source": [
    "## Date Time"
   ]
  },
  {
   "cell_type": "code",
   "execution_count": 17,
   "id": "4a348229",
   "metadata": {},
   "outputs": [
    {
     "name": "stdout",
     "output_type": "stream",
     "text": [
      "2021-06-30 14:12:43.136205\n",
      "2021-06-30\n",
      "14:12:43.137203\n"
     ]
    }
   ],
   "source": [
    "from datetime import datetime\n",
    "\n",
    "print(datetime.now())\n",
    "print(datetime.now().date())\n",
    "print(datetime.now().time())"
   ]
  },
  {
   "cell_type": "code",
   "execution_count": 21,
   "id": "0bf1effb",
   "metadata": {},
   "outputs": [
    {
     "name": "stdout",
     "output_type": "stream",
     "text": [
      "2020-08-20 00:00:00\n",
      "20일08월20년\n",
      "30일06월21년\n",
      "2018-09-18\n",
      "어쩌구형식2018\n"
     ]
    }
   ],
   "source": [
    "exampleTime = datetime(2020, 8, 20)\n",
    "print(exampleTime)\n",
    "print(exampleTime.strftime(\"%d일%m월%y년\"))\n",
    "print(datetime.now().strftime(\"%d일%m월%y년\"))\n",
    "\n",
    "timeString = \"09/18/2018\"\n",
    "parsedTime = datetime.strptime(timeString, \"%m/%d/%Y\")\n",
    "print(parsedTime.date())\n",
    "print(parsedTime.strftime(\"어쩌구형식%Y\"))"
   ]
  },
  {
   "cell_type": "markdown",
   "id": "2242908d",
   "metadata": {},
   "source": [
    "## 형식 바꾸기\n",
    "- ```strptime```: 문자열로부터 날짜와 시간 정보를 읽어서 datetime 클래스 객체 만들기\n",
    "- ```strftime```: 날짜와 시간 정보를 문자열로 바꿔준다."
   ]
  },
  {
   "cell_type": "code",
   "execution_count": 23,
   "id": "78bdb53c",
   "metadata": {},
   "outputs": [
    {
     "name": "stdout",
     "output_type": "stream",
     "text": [
      "2018-09-18 00:00:00\n"
     ]
    }
   ],
   "source": [
    "\n",
    "timeString = \"09/18/2018\"\n",
    "parsedTime = datetime.strptime(timeString, \"%m/%d/%Y\")\n",
    "print(parsedTime)"
   ]
  },
  {
   "cell_type": "code",
   "execution_count": 26,
   "id": "9464ad20",
   "metadata": {},
   "outputs": [
    {
     "name": "stdout",
     "output_type": "stream",
     "text": [
      "2020-05-20 00:00:00\n",
      "20.05.2020\n",
      "20-05-2020\n"
     ]
    }
   ],
   "source": [
    "x = datetime(2020,5,20)\n",
    "print(x)\n",
    "print(x.strftime(\"%d.%m.%Y\"))\n",
    "print(x.strftime(\"%d-%m-%Y\"))"
   ]
  },
  {
   "cell_type": "code",
   "execution_count": 12,
   "id": "4c52dc32",
   "metadata": {},
   "outputs": [
    {
     "name": "stdout",
     "output_type": "stream",
     "text": [
      "True\n",
      "False\n"
     ]
    }
   ],
   "source": [
    "# 날짜 비교\n",
    "print(parsedTime < datetime.now())\n",
    "print(parsedTime > datetime.now())\n",
    "\n",
    "# while allLogFile:\n",
    "#     if FileNameParsingTime > parsedTime:\n",
    "#         break # 이 날짜까지만 분석하자"
   ]
  },
  {
   "cell_type": "code",
   "execution_count": null,
   "id": "1db43e33",
   "metadata": {},
   "outputs": [],
   "source": []
  }
 ],
 "metadata": {
  "kernelspec": {
   "display_name": "Python 3",
   "language": "python",
   "name": "python3"
  },
  "language_info": {
   "codemirror_mode": {
    "name": "ipython",
    "version": 3
   },
   "file_extension": ".py",
   "mimetype": "text/x-python",
   "name": "python",
   "nbconvert_exporter": "python",
   "pygments_lexer": "ipython3",
   "version": "3.8.8"
  }
 },
 "nbformat": 4,
 "nbformat_minor": 5
}
