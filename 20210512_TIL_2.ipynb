{
 "cells": [
  {
   "cell_type": "markdown",
   "metadata": {},
   "source": [
    "# 파이썬 re \n",
    "### 정규 표현식 연산(Regular Expression Operations)\n"
   ]
  },
  {
   "cell_type": "markdown",
   "metadata": {},
   "source": [
    "## 메타 문자\n",
    "```[]```: 문자 집합, 범위(range)<br>\n",
    "```^```: 다음으로 시작<br>\n",
    "```$```: 다음으로 끝<br>\n",
    "```|```: OR<br>\n",
    "```\\```: 특수 문자 escape('*','?')\n"
   ]
  },
  {
   "cell_type": "markdown",
   "metadata": {},
   "source": [
    "## 특수 시퀀스\n",
    "```\\A```: 지정된 문자가 문자열의 **시작** 부분에 있으면 일치 항목 반환<br>\n",
    "```\\Z```: 지정된 문자가 문자열의 **끝**에 있으면 일치 항목 반환<br>\n",
    "```\\D```: 숫자가 아님.<br>\n",
    "```\\d```: 문자열+ 숫자 <br>\n",
    "```\\S```: **비**공백<br>\n",
    "```\\s```: 공백<br>\n",
    "```\\W```: 영어와 숫자가 **아닌**<br>\n",
    "```\\w```: 영어와 숫자<br>\n",
    "```.``` : newline을 제외한 모든 문자와 일치<br>\n",
    "```*``` : 이전 정규식의 **0개 이상**의 반복을 가능한 많이 반복<br>\n",
    "```+``` : 이전 정규식의 **1개 이상**의 반복을 일치<br>\n",
    "```?``` : 이전 정규식의 **0 또는 1** 반복과 일치<br>\n",
    "```{n}```:이전 정규식의 **n**반복을 일치<br>\n",
    "```{n,m}```: 이전 정규식의 **n-m**반복을 일치<br>\n",
    "\n",
    "\n",
    "### - re.compile():\n",
    "1. 정규식을 compile한다. 표현식 자체가 유효하지 않으면 오류 보고<br>\n",
    "2. compile된 정규식을 사용하여 문자열 일치 시킴."
   ]
  },
  {
   "cell_type": "code",
   "execution_count": null,
   "metadata": {},
   "outputs": [],
   "source": []
  }
 ],
 "metadata": {
  "kernelspec": {
   "display_name": "Python 3",
   "language": "python",
   "name": "python3"
  },
  "language_info": {
   "codemirror_mode": {
    "name": "ipython",
    "version": 3
   },
   "file_extension": ".py",
   "mimetype": "text/x-python",
   "name": "python",
   "nbconvert_exporter": "python",
   "pygments_lexer": "ipython3",
   "version": "3.8.3"
  }
 },
 "nbformat": 4,
 "nbformat_minor": 4
}
