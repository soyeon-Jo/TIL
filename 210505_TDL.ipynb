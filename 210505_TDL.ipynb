{
 "cells": [
  {
   "cell_type": "markdown",
   "metadata": {},
   "source": [
    "### 프로그래머스 코딩테스트_level 1\n",
    "- 포켓몬"
   ]
  },
  {
   "cell_type": "code",
   "execution_count": 23,
   "metadata": {
    "scrolled": true
   },
   "outputs": [],
   "source": [
    "def solution(nums):\n",
    "    return min(len(set(nums)), len(nums)//2 )\n",
    "               #가져가야 하는 값\n",
    "    "
   ]
  },
  {
   "cell_type": "markdown",
   "metadata": {},
   "source": [
    "- K번째 수"
   ]
  },
  {
   "cell_type": "code",
   "execution_count": 99,
   "metadata": {},
   "outputs": [],
   "source": [
    "def solution(numbers):\n",
    "    dic = []\n",
    "    for i in range(len(numbers)):\n",
    "        #인덱스로 나누기\n",
    "        print(i, end=\",\\n\")\n",
    "        for j in range(i+1,len(numbers)):\n",
    "            print(i,j)\n",
    "            dic.append(numbers[i] + numbers[j])\n",
    "            \n",
    "    return(sorted(list(set(dic))))  "
   ]
  },
  {
   "cell_type": "code",
   "execution_count": 100,
   "metadata": {},
   "outputs": [
    {
     "name": "stdout",
     "output_type": "stream",
     "text": [
      "0,\n",
      "0 1\n",
      "0 2\n",
      "0 3\n",
      "1,\n",
      "1 2\n",
      "1 3\n",
      "2,\n",
      "2 3\n",
      "3,\n"
     ]
    },
    {
     "data": {
      "text/plain": [
       "[2, 5, 7, 9, 12]"
      ]
     },
     "execution_count": 100,
     "metadata": {},
     "output_type": "execute_result"
    }
   ],
   "source": [
    "solution([5,0,2,7])"
   ]
  },
  {
   "cell_type": "markdown",
   "metadata": {},
   "source": [
    "- 가운데 글자 가져오기"
   ]
  },
  {
   "cell_type": "code",
   "execution_count": 129,
   "metadata": {},
   "outputs": [],
   "source": [
    "def solution(s):\n",
    "    answer = []\n",
    "    if len(s)%2 ==0:       \n",
    "        a=len(s)//2\n",
    "        for i in s:\n",
    "            answer.append(i)\n",
    "        return answer[a-1]+answer[a]\n",
    "    \n",
    "    else:\n",
    "        b = len(s)//2\n",
    "        for i in s:\n",
    "            answer.append(i)\n",
    "        return answer[b]\n",
    "    "
   ]
  },
  {
   "cell_type": "code",
   "execution_count": 132,
   "metadata": {},
   "outputs": [
    {
     "data": {
      "text/plain": [
       "'we'"
      ]
     },
     "execution_count": 132,
     "metadata": {},
     "output_type": "execute_result"
    }
   ],
   "source": [
    "solution(\"qwer\")"
   ]
  },
  {
   "cell_type": "markdown",
   "metadata": {},
   "source": [
    "##### 같은 문제, 다른 코드 참고 및 학습"
   ]
  },
  {
   "cell_type": "code",
   "execution_count": 355,
   "metadata": {},
   "outputs": [
    {
     "name": "stdout",
     "output_type": "stream",
     "text": [
      "we\n"
     ]
    }
   ],
   "source": [
    "def string_middle(str):\n",
    "    # 함수를 완성하세요\n",
    "\n",
    "    return str[(len(str)-1)//2:len(str)//2+1]\n",
    "\n",
    "# 테스트로 출력.\n",
    "print(string_middle(\"powedr\"))"
   ]
  },
  {
   "cell_type": "markdown",
   "metadata": {},
   "source": [
    "- 음양 더하기"
   ]
  },
  {
   "cell_type": "code",
   "execution_count": 356,
   "metadata": {},
   "outputs": [],
   "source": [
    "def solution(absolutes, signs):\n",
    "    true = 1\n",
    "    false = -1\n",
    "    dic = []\n",
    "    \n",
    "    global xx\n",
    "    xx=0\n",
    "    for x in range(len(absolutes)):\n",
    "        dic.append(absolutes[x] * signs[x])\n",
    "                \n",
    "    for i in dic:\n",
    "        \n",
    "        xx+=i\n",
    "    return xx"
   ]
  },
  {
   "cell_type": "code",
   "execution_count": 357,
   "metadata": {},
   "outputs": [
    {
     "data": {
      "text/plain": [
       "1"
      ]
     },
     "execution_count": 357,
     "metadata": {},
     "output_type": "execute_result"
    }
   ],
   "source": [
    "solution([4,7,12],[false,false,true])"
   ]
  },
  {
   "cell_type": "markdown",
   "metadata": {},
   "source": [
    "##### 같은 문제, 다른 코드 참고 및 학습"
   ]
  },
  {
   "cell_type": "code",
   "execution_count": 209,
   "metadata": {},
   "outputs": [],
   "source": [
    "def solution(absolutes, signs):\n",
    "    answer =0\n",
    "    for i in range(len(absolutes)):\n",
    "        if signs[i] == False:\n",
    "                signs[i]=signs[i]*-1\n",
    "                answer += signs[i] +absolutes[i]\n",
    "                \n",
    "    return answer\n",
    "            \n",
    "            \n",
    "            "
   ]
  },
  {
   "cell_type": "code",
   "execution_count": 218,
   "metadata": {},
   "outputs": [
    {
     "data": {
      "text/plain": [
       "1"
      ]
     },
     "execution_count": 218,
     "metadata": {},
     "output_type": "execute_result"
    }
   ],
   "source": [
    "solution([4,7,12],[false,false,true])"
   ]
  },
  {
   "cell_type": "markdown",
   "metadata": {},
   "source": [
    "idx 활용하기"
   ]
  },
  {
   "cell_type": "code",
   "execution_count": 217,
   "metadata": {},
   "outputs": [],
   "source": [
    "def solution(absolutes, signs):\n",
    "    answer =[]\n",
    "    for idx in range(len(absolutes)):\n",
    "        if signs[idx] == True:\n",
    "            answer.append(absolutes[idx])\n",
    "        else :\n",
    "            answer.append(-absolutes[idx])\n",
    "    \n",
    "    return sum(answer)"
   ]
  },
  {
   "cell_type": "markdown",
   "metadata": {},
   "source": [
    "- 두개 뽑아서 가져오기"
   ]
  },
  {
   "cell_type": "code",
   "execution_count": 358,
   "metadata": {},
   "outputs": [],
   "source": [
    "def solution(numbers):\n",
    "    dic = []\n",
    "    for i in range(len(numbers)):\n",
    "        #인덱스로 나누기\n",
    "        print(i, end=\",\\n\")\n",
    "        for j in range(i+1,len(numbers)):\n",
    "            print(i,j)\n",
    "            dic.append(numbers[i] + numbers[j])\n",
    "            \n",
    "    return(sorted(list(set(dic))))"
   ]
  },
  {
   "cell_type": "markdown",
   "metadata": {},
   "source": [
    "- 평균 구하기"
   ]
  },
  {
   "cell_type": "code",
   "execution_count": 359,
   "metadata": {},
   "outputs": [],
   "source": [
    "def solution(arr):\n",
    "    return sum(arr)/len(arr)\n",
    "\n",
    "   "
   ]
  },
  {
   "cell_type": "code",
   "execution_count": 360,
   "metadata": {},
   "outputs": [
    {
     "data": {
      "text/plain": [
       "5.0"
      ]
     },
     "execution_count": 360,
     "metadata": {},
     "output_type": "execute_result"
    }
   ],
   "source": [
    "solution([5,5])"
   ]
  },
  {
   "cell_type": "markdown",
   "metadata": {},
   "source": [
    "- x만큼 간격이 있는 n개의 숫자"
   ]
  },
  {
   "cell_type": "code",
   "execution_count": 362,
   "metadata": {},
   "outputs": [],
   "source": [
    "def solution(x, n):\n",
    "    answer = []\n",
    "    for i in range(x,x*(n+1),x):\n",
    "        answer.append(i)\n",
    "        \n",
    "        \n",
    "    return answer"
   ]
  },
  {
   "cell_type": "code",
   "execution_count": 363,
   "metadata": {},
   "outputs": [
    {
     "data": {
      "text/plain": [
       "[2, 4, 6, 8, 10]"
      ]
     },
     "execution_count": 363,
     "metadata": {},
     "output_type": "execute_result"
    }
   ],
   "source": [
    "solution(2,5)"
   ]
  },
  {
   "cell_type": "markdown",
   "metadata": {},
   "source": [
    "##### 같은 문제, 다른 코드 학습 및 참고"
   ]
  },
  {
   "cell_type": "code",
   "execution_count": 364,
   "metadata": {},
   "outputs": [
    {
     "name": "stdout",
     "output_type": "stream",
     "text": [
      "[2, 4, 6, 8, 10]\n"
     ]
    }
   ],
   "source": [
    "def solution(x, n):\n",
    "    # 함수를 완성하세요\n",
    "    return [i * x + x for i in range(n)]\n",
    "print(solution(2, 5))"
   ]
  },
  {
   "cell_type": "markdown",
   "metadata": {},
   "source": [
    "- 소수 만들기"
   ]
  },
  {
   "cell_type": "code",
   "execution_count": 290,
   "metadata": {},
   "outputs": [],
   "source": [
    "def solution(num):\n",
    "    if num%2 ==0:\n",
    "        return 'Even'\n",
    "    else:\n",
    "        return 'Odd'\n",
    "\n",
    "    "
   ]
  },
  {
   "cell_type": "code",
   "execution_count": 291,
   "metadata": {},
   "outputs": [
    {
     "data": {
      "text/plain": [
       "'Odd'"
      ]
     },
     "execution_count": 291,
     "metadata": {},
     "output_type": "execute_result"
    }
   ],
   "source": [
    "solution(3)"
   ]
  },
  {
   "cell_type": "markdown",
   "metadata": {},
   "source": [
    "##### 같은 문제 , 다른 코드 참고 및 학습"
   ]
  },
  {
   "cell_type": "code",
   "execution_count": null,
   "metadata": {},
   "outputs": [],
   "source": [
    "def evenOrOdd(num):\n",
    "    if (num%2):\n",
    "        return \"Odd\"\n",
    "    else:\n",
    "        return \"Even\"\n",
    "\n",
    "#아래는 테스트로 출력해 보기 위한 코드입니다.\n",
    "print(\"결과 : \" + evenOrOdd(3))\n",
    "print(\"결과 : \" + evenOrOdd(2))"
   ]
  },
  {
   "cell_type": "markdown",
   "metadata": {},
   "source": [
    "둘 다 참이어야하는 조건에 맞지 않기 때문에 or Even으로 해서 둘 중에 하나라도 참일 때 가능한 Even이 출력되며 , num%2가 1(참)이면 and 조건이 성립되어 Odd가 출력됩니다\n"
   ]
  },
  {
   "cell_type": "markdown",
   "metadata": {},
   "source": [
    "- 두 정수 사이의 합"
   ]
  },
  {
   "cell_type": "code",
   "execution_count": 296,
   "metadata": {},
   "outputs": [],
   "source": [
    "def solution(a, b):\n",
    "    return (sum(range(min(a,b),max(a,b)+1)))"
   ]
  },
  {
   "cell_type": "code",
   "execution_count": 297,
   "metadata": {},
   "outputs": [
    {
     "data": {
      "text/plain": [
       "12"
      ]
     },
     "execution_count": 297,
     "metadata": {},
     "output_type": "execute_result"
    }
   ],
   "source": [
    "solution(5,3)"
   ]
  },
  {
   "cell_type": "markdown",
   "metadata": {},
   "source": [
    "- 서울에서 김서방 찾기"
   ]
  },
  {
   "cell_type": "code",
   "execution_count": 339,
   "metadata": {},
   "outputs": [],
   "source": [
    "def solution(seoul):\n",
    "    answer = ''\n",
    "    index = seoul.index(\"Kim\")\n",
    "    answer = \"김서방은\"+str(index)+\"에 있다\"\n",
    "    return answer"
   ]
  },
  {
   "cell_type": "code",
   "execution_count": 341,
   "metadata": {},
   "outputs": [
    {
     "data": {
      "text/plain": [
       "'김서방은2에 있다'"
      ]
     },
     "execution_count": 341,
     "metadata": {},
     "output_type": "execute_result"
    }
   ],
   "source": [
    "solution([\"Jane\", \"min\",\"Kim\"])"
   ]
  },
  {
   "cell_type": "markdown",
   "metadata": {},
   "source": [
    "- 문자열 내 p와 y의 개수"
   ]
  },
  {
   "cell_type": "code",
   "execution_count": 352,
   "metadata": {},
   "outputs": [],
   "source": [
    "def solution(s):\n",
    "    answer = True\n",
    "    s = s.lower()\n",
    "    count_y = 0\n",
    "    count_p = 0\n",
    "    for i in s:\n",
    "        if i == 'p':\n",
    "            count_p += 1\n",
    "        elif i == 'y':\n",
    "            count_y += 1\n",
    "    if count_p == count_y:\n",
    "        return True\n",
    "    else:\n",
    "        return False\n",
    "    # [실행] 버튼을 누르면 출력 값을 볼 수 있습니다.\n",
    "    print('Hello Python')\n",
    "\n",
    "    return True"
   ]
  },
  {
   "cell_type": "code",
   "execution_count": 354,
   "metadata": {},
   "outputs": [
    {
     "data": {
      "text/plain": [
       "True"
      ]
     },
     "execution_count": 354,
     "metadata": {},
     "output_type": "execute_result"
    }
   ],
   "source": [
    "solution(\"pPoooyY\")"
   ]
  },
  {
   "cell_type": "markdown",
   "metadata": {},
   "source": [
    "##### 같은 문제, 다른 코드 참고 및 학습"
   ]
  },
  {
   "cell_type": "code",
   "execution_count": null,
   "metadata": {},
   "outputs": [],
   "source": [
    "def numPY(s):\n",
    "    # 함수를 완성하세요\n",
    "    return s.lower().count('p') == s.lower().count('y')\n",
    "\n",
    "# 아래는 테스트로 출력해 보기 위한 코드입니다.\n",
    "print( numPY(\"pPoooyY\") )\n",
    "print( numPY(\"Pyy\") )\n"
   ]
  }
 ],
 "metadata": {
  "kernelspec": {
   "display_name": "Python 3",
   "language": "python",
   "name": "python3"
  },
  "language_info": {
   "codemirror_mode": {
    "name": "ipython",
    "version": 3
   },
   "file_extension": ".py",
   "mimetype": "text/x-python",
   "name": "python",
   "nbconvert_exporter": "python",
   "pygments_lexer": "ipython3",
   "version": "3.8.3"
  }
 },
 "nbformat": 4,
 "nbformat_minor": 4
}
