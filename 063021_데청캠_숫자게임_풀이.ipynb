{
 "cells": [
  {
   "cell_type": "markdown",
   "id": "f8011de4",
   "metadata": {},
   "source": [
    "# 숫자 야구 게임\n",
    "규칙 및 조건:\n",
    "- 컴퓨터는 랜덤한 4자리 숫자를 생성한다.\n",
    "  - 단, 숫자에 0이 들어갈 수 없고, 각 자리에 중복된 숫자는 사용 불가하다.\n",
    "  - ex) 3143 불가 (3의 중복때문)\n",
    "\n",
    "- 이용자는 그 숫자를 최대한 적은 횟수로 맞춰야 한다.\n",
    "- 사람이 한 번 시도할 때마다 컴퓨터는 몇 strike, 몇 ball인지 알려줘야 한다.\n",
    "  - Strike : 숫자& 위치가 일치\n",
    "  - Ball : 숫자만 일치(위치는 다른)\n",
    "  - ex) 컴퓨터가 생성한 숫자가 3157이다.\n",
    "    - 1234 시도: 2Ball(1과 3이 각각 틀린 위치에 있다.)\n",
    "    - 6123 시도: 1Strike & 1Ball(1은 위치와 숫자가 맞고 3은 위치가 틀렸다.)\n",
    "    - 3157 시도: 4S, 네 개 숫자 모두 위치와 값이 맞았으므로 게임 종료\n",
    "  \n"
   ]
  },
  {
   "cell_type": "code",
   "execution_count": 22,
   "id": "ca95490d",
   "metadata": {},
   "outputs": [],
   "source": [
    "import random\n",
    "\n",
    "def makeRandomSample():\n",
    "#랜덤 숫자를 뽑는 방법 1. \n",
    "#     numbers = ['1','2','3','4','5','6','7','8','9']\n",
    "#     sampleResult = random.sample(numbers,4)\n",
    "#랜덤 숫자를 뽑는 방법 2.\n",
    "#     numbersString =[]\n",
    "#     for number in numbers:\n",
    "#             numbersString.append(str(number))\n",
    "#랜덤 숫자를 뽑는 방법 3.\n",
    "    numbersString = [str(number) for number in numbers]\n",
    "    sampleResult = random.sample(numbersString,4)\n",
    "    \n",
    "    print(sampleResult)\n",
    "    return sampleResult\n",
    "\n",
    "def makeRandomChoice():\n",
    "    numbers = [1, 2, 3, 4, 5, 6, 7, 8, 9]\n",
    "    numbersString = [str(number) for number in numbers] # list continue\n",
    "    result = \"\"\n",
    "    for i in range(4):\n",
    "        #print(i, result)\n",
    "        while True:\n",
    "            randomNumber = random.choice(numbersString)\n",
    "            if randomNumber in result:\n",
    "                continue\n",
    "            else:\n",
    "                result += randomNumber\n",
    "                break\n",
    "    return result\n",
    "answer = makeRandomChoice()"
   ]
  },
  {
   "cell_type": "code",
   "execution_count": 23,
   "id": "71467ae0",
   "metadata": {},
   "outputs": [
    {
     "name": "stdout",
     "output_type": "stream",
     "text": [
      "4자리 숫자를 입력하세요3291\n",
      "strike: 1 ball 0\n",
      "4자리 숫자를 입력하세요4138\n",
      "strike: 0 ball 0\n"
     ]
    },
    {
     "ename": "KeyboardInterrupt",
     "evalue": "Interrupted by user",
     "output_type": "error",
     "traceback": [
      "\u001b[1;31m---------------------------------------------------------------------------\u001b[0m",
      "\u001b[1;31mKeyboardInterrupt\u001b[0m                         Traceback (most recent call last)",
      "\u001b[1;32m<ipython-input-23-bbb25d5f7312>\u001b[0m in \u001b[0;36m<module>\u001b[1;34m\u001b[0m\n\u001b[0;32m      1\u001b[0m \u001b[1;32mwhile\u001b[0m \u001b[1;32mTrue\u001b[0m\u001b[1;33m:\u001b[0m\u001b[1;33m\u001b[0m\u001b[1;33m\u001b[0m\u001b[0m\n\u001b[1;32m----> 2\u001b[1;33m     \u001b[0mguess\u001b[0m \u001b[1;33m=\u001b[0m \u001b[0minput\u001b[0m\u001b[1;33m(\u001b[0m\u001b[1;34m\"4자리 숫자를 입력하세요\"\u001b[0m\u001b[1;33m)\u001b[0m\u001b[1;33m\u001b[0m\u001b[1;33m\u001b[0m\u001b[0m\n\u001b[0m\u001b[0;32m      3\u001b[0m     \u001b[1;31m#guess가 적합한지 학인\u001b[0m\u001b[1;33m\u001b[0m\u001b[1;33m\u001b[0m\u001b[1;33m\u001b[0m\u001b[0m\n\u001b[0;32m      4\u001b[0m     \u001b[1;31m#적합하지 않다면 continue\u001b[0m\u001b[1;33m\u001b[0m\u001b[1;33m\u001b[0m\u001b[1;33m\u001b[0m\u001b[0m\n\u001b[0;32m      5\u001b[0m     \u001b[0mstrike\u001b[0m \u001b[1;33m=\u001b[0m \u001b[1;36m0\u001b[0m\u001b[1;33m\u001b[0m\u001b[1;33m\u001b[0m\u001b[0m\n",
      "\u001b[1;32m~\\anaconda3\\lib\\site-packages\\ipykernel\\kernelbase.py\u001b[0m in \u001b[0;36mraw_input\u001b[1;34m(self, prompt)\u001b[0m\n\u001b[0;32m    858\u001b[0m                 \u001b[1;34m\"raw_input was called, but this frontend does not support input requests.\"\u001b[0m\u001b[1;33m\u001b[0m\u001b[1;33m\u001b[0m\u001b[0m\n\u001b[0;32m    859\u001b[0m             )\n\u001b[1;32m--> 860\u001b[1;33m         return self._input_request(str(prompt),\n\u001b[0m\u001b[0;32m    861\u001b[0m             \u001b[0mself\u001b[0m\u001b[1;33m.\u001b[0m\u001b[0m_parent_ident\u001b[0m\u001b[1;33m,\u001b[0m\u001b[1;33m\u001b[0m\u001b[1;33m\u001b[0m\u001b[0m\n\u001b[0;32m    862\u001b[0m             \u001b[0mself\u001b[0m\u001b[1;33m.\u001b[0m\u001b[0m_parent_header\u001b[0m\u001b[1;33m,\u001b[0m\u001b[1;33m\u001b[0m\u001b[1;33m\u001b[0m\u001b[0m\n",
      "\u001b[1;32m~\\anaconda3\\lib\\site-packages\\ipykernel\\kernelbase.py\u001b[0m in \u001b[0;36m_input_request\u001b[1;34m(self, prompt, ident, parent, password)\u001b[0m\n\u001b[0;32m    902\u001b[0m             \u001b[1;32mexcept\u001b[0m \u001b[0mKeyboardInterrupt\u001b[0m\u001b[1;33m:\u001b[0m\u001b[1;33m\u001b[0m\u001b[1;33m\u001b[0m\u001b[0m\n\u001b[0;32m    903\u001b[0m                 \u001b[1;31m# re-raise KeyboardInterrupt, to truncate traceback\u001b[0m\u001b[1;33m\u001b[0m\u001b[1;33m\u001b[0m\u001b[1;33m\u001b[0m\u001b[0m\n\u001b[1;32m--> 904\u001b[1;33m                 \u001b[1;32mraise\u001b[0m \u001b[0mKeyboardInterrupt\u001b[0m\u001b[1;33m(\u001b[0m\u001b[1;34m\"Interrupted by user\"\u001b[0m\u001b[1;33m)\u001b[0m \u001b[1;32mfrom\u001b[0m \u001b[1;32mNone\u001b[0m\u001b[1;33m\u001b[0m\u001b[1;33m\u001b[0m\u001b[0m\n\u001b[0m\u001b[0;32m    905\u001b[0m             \u001b[1;32mexcept\u001b[0m \u001b[0mException\u001b[0m \u001b[1;32mas\u001b[0m \u001b[0me\u001b[0m\u001b[1;33m:\u001b[0m\u001b[1;33m\u001b[0m\u001b[1;33m\u001b[0m\u001b[0m\n\u001b[0;32m    906\u001b[0m                 \u001b[0mself\u001b[0m\u001b[1;33m.\u001b[0m\u001b[0mlog\u001b[0m\u001b[1;33m.\u001b[0m\u001b[0mwarning\u001b[0m\u001b[1;33m(\u001b[0m\u001b[1;34m\"Invalid Message:\"\u001b[0m\u001b[1;33m,\u001b[0m \u001b[0mexc_info\u001b[0m\u001b[1;33m=\u001b[0m\u001b[1;32mTrue\u001b[0m\u001b[1;33m)\u001b[0m\u001b[1;33m\u001b[0m\u001b[1;33m\u001b[0m\u001b[0m\n",
      "\u001b[1;31mKeyboardInterrupt\u001b[0m: Interrupted by user"
     ]
    }
   ],
   "source": [
    "\n",
    "while True:\n",
    "    guess = input(\"4자리 숫자를 입력하세요\")\n",
    "    #guess가 적합한지 학인\n",
    "    #적합하지 않다면 continue\n",
    "    strike = 0\n",
    "    ball = 0\n",
    "    for answerIndex in range(len(answer)):\n",
    "        if answer[answerIndex] in guess:\n",
    "            if answer[answerIndex] == guess[answerIndex]:\n",
    "                strike +=1\n",
    "            else:\n",
    "                ball +=1\n",
    "    \n",
    "    print(\"strike:\",strike,\"ball\",ball)\n",
    "    if strike == 4:\n",
    "        print(\"정답입니다.\")\n",
    "        break"
   ]
  },
  {
   "cell_type": "code",
   "execution_count": null,
   "id": "aae41524",
   "metadata": {},
   "outputs": [],
   "source": []
  }
 ],
 "metadata": {
  "kernelspec": {
   "display_name": "Python 3",
   "language": "python",
   "name": "python3"
  },
  "language_info": {
   "codemirror_mode": {
    "name": "ipython",
    "version": 3
   },
   "file_extension": ".py",
   "mimetype": "text/x-python",
   "name": "python",
   "nbconvert_exporter": "python",
   "pygments_lexer": "ipython3",
   "version": "3.8.8"
  }
 },
 "nbformat": 4,
 "nbformat_minor": 5
}
