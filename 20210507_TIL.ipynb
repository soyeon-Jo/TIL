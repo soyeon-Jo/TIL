{
 "cells": [
  {
   "cell_type": "markdown",
   "metadata": {},
   "source": [
    "# 20210507_TIL\n",
    "### PRACTICE_Medium(python)\n",
    "\n",
    "### Words Score\n"
   ]
  },
  {
   "cell_type": "code",
   "execution_count": 39,
   "metadata": {},
   "outputs": [
    {
     "name": "stdout",
     "output_type": "stream",
     "text": [
      "3\n",
      "programming is awesome\n",
      "6\n"
     ]
    }
   ],
   "source": [
    "n = int(input())\n",
    "word = input().split()\n",
    "vowel_list = ['a','e','i','o','u','y']\n",
    "score = 0\n",
    "if n == len(word):\n",
    "    for i in word:\n",
    "        #hacker / book\n",
    "        num_vowels = 0\n",
    "        for j in i:# 각 단어에 대한 모음\n",
    "            if j in vowel_list:\n",
    "                num_vowels +=1\n",
    "                \n",
    "                \n",
    "        if len(count)%2 ==0 :\n",
    "                score+=2\n",
    "                   \n",
    "        else :\n",
    "                score +=1\n",
    "                    \n",
    "print(score)        \n",
    "           "
   ]
  },
  {
   "cell_type": "code",
   "execution_count": 40,
   "metadata": {},
   "outputs": [],
   "source": [
    "def is_vowel(letter):\n",
    "    return letter in ['a', 'e', 'i', 'o', 'u', 'y']\n",
    "\n",
    "def score_words(words):\n",
    "    score = 0\n",
    "    for word in words:\n",
    "        num_vowels = 0\n",
    "        for letter in word:\n",
    "            if is_vowel(letter):\n",
    "                num_vowels += 1\n",
    "        if num_vowels % 2 == 0:\n",
    "            score += 2\n",
    "        else:\n",
    "            score += 1\n",
    "    return score\n"
   ]
  },
  {
   "cell_type": "code",
   "execution_count": 41,
   "metadata": {},
   "outputs": [
    {
     "name": "stdout",
     "output_type": "stream",
     "text": [
      "3\n",
      "programming is awesome\n",
      "4\n"
     ]
    }
   ],
   "source": [
    "n= int(input())\n",
    "words = input().split()\n",
    "print(score_words(words))"
   ]
  },
  {
   "cell_type": "markdown",
   "metadata": {},
   "source": [
    "# ginortS\n",
    "You are given a string **S**.\n",
    "**S**contains alphanumeric characters only.\n",
    "\n",
    "Your task is to sort the string**S** in the following manner:\n",
    "\n",
    "- All sorted lowercase letters are ahead of uppercase letters.\n",
    "- All sorted uppercase letters are ahead of digits.\n",
    "- All sorted odd digits are ahead of sorted even digits.\n",
    "\n",
    "**Input Format**\n",
    "A single line of input contains the string**S** .\n",
    "\n",
    "**Constraints**\n",
    "0< len(S)<1000\n",
    "\n",
    "**Output Format**\n",
    "Output the sorted string **S**.\n",
    "\n",
    "***Sample Input***\n",
    "Sorting1234\n",
    "***Sample Output***\n",
    "ginortS1324"
   ]
  },
  {
   "cell_type": "code",
   "execution_count": 67,
   "metadata": {},
   "outputs": [],
   "source": [
    "\n",
    "def ginortS(S):\n",
    "    if S.islower():\n",
    "        return(1,S)\n",
    "    elif S.isupper():\n",
    "        return(2,S)\n",
    "    elif S.isdigit():\n",
    "        if int(S)%2 ==1:\n",
    "            return (3,S)\n",
    "        else:\n",
    "            return (4,S)\n",
    "\n"
   ]
  },
  {
   "cell_type": "code",
   "execution_count": 68,
   "metadata": {},
   "outputs": [
    {
     "name": "stdout",
     "output_type": "stream",
     "text": [
      "Sorting1234\n",
      "g i n o r t S 1 3 2 4\n"
     ]
    }
   ],
   "source": [
    "print(*sorted(input(),key = ginortS), sep='')"
   ]
  },
  {
   "cell_type": "markdown",
   "metadata": {},
   "source": [
    "# Triangle Quest_2\n",
    "You are given a positive integer **N**.\n",
    "Your task is to print a palindromic triangle of size **N**.\n",
    "\n",
    "For example, a palindromic triangle of size **5** is:\n",
    "```python\n",
    "1\n",
    "121\n",
    "12321\n",
    "1234321\n",
    "123454321```\n",
    "\n",
    "You can't take more than two lines. The first line (a for-statement) is already written for you.\n",
    "You have to complete the code using exactly one print statement.\n",
    "**Note**:\n",
    "Using anything related to strings will give a score of **0** .\n",
    "Using more than one for-statement will give a score of **0** .\n",
    "\n",
    "**Input Format**\n",
    "A single line of input containing the integer **N** .\n",
    "\n",
    "**Constraints**\n",
    "0< N < 10\n",
    "\n",
    "**Output Format**\n",
    "\n",
    "Print the palindromic triangle of size **N** as explained above.\n",
    "\n",
    "**Sample Input**\n",
    "```python\n",
    "5```\n",
    "\n",
    "**Sample Output**\n",
    "```python\n",
    "1\n",
    "121\n",
    "12321\n",
    "1234321\n",
    "123454321```"
   ]
  },
  {
   "cell_type": "code",
   "execution_count": 98,
   "metadata": {},
   "outputs": [
    {
     "name": "stdout",
     "output_type": "stream",
     "text": [
      "5\n",
      "1\n",
      "121\n",
      "12321\n",
      "1234321\n",
      "123454321\n"
     ]
    }
   ],
   "source": [
    "for i in range(1,int(input())+1):\n",
    "     print((10**i//9)**2)\n"
   ]
  },
  {
   "cell_type": "markdown",
   "metadata": {},
   "source": [
    "# Triangle Quest\n",
    "You are given a positive integer **N** . Print a numerical triangle of height**N-1**  like the one below:\n",
    "```\n",
    "1\n",
    "22\n",
    "333\n",
    "4444\n",
    "55555\n",
    "......\n",
    "```\n",
    "\n",
    "Can you do it using only **arithmetic operations, a single for loop and print statement.**\n",
    "\n",
    "Use no more than two lines. The first line (the for statement) is already written for you. You have to complete the print statement.\n",
    "\n",
    "**Note**:<br> Using anything related to strings will give a score of **0**.\n",
    "\n",
    "**Input Format**<br> \n",
    "A single line containing integer,**N** .\n",
    "\n",
    "**Constraints**<br> \n",
    "1<= N <=9\n",
    "\n",
    "**Output Format**<br> \n",
    "Print **N-1** lines as explained above.\n",
    "\n",
    "**Sample Input**<br> \n",
    "5\n",
    "\n",
    "**Sample Output**<br> \n",
    "1\n",
    "22\n",
    "333\n",
    "4444"
   ]
  },
  {
   "cell_type": "code",
   "execution_count": 109,
   "metadata": {},
   "outputs": [
    {
     "name": "stdout",
     "output_type": "stream",
     "text": [
      "5\n",
      "1\n",
      "22\n",
      "333\n",
      "4444\n"
     ]
    }
   ],
   "source": [
    "for i in range(1,int(input())):\n",
    "    print((10**(i)//9)*i)"
   ]
  },
  {
   "cell_type": "code",
   "execution_count": null,
   "metadata": {},
   "outputs": [],
   "source": []
  }
 ],
 "metadata": {
  "kernelspec": {
   "display_name": "Python 3",
   "language": "python",
   "name": "python3"
  },
  "language_info": {
   "codemirror_mode": {
    "name": "ipython",
    "version": 3
   },
   "file_extension": ".py",
   "mimetype": "text/x-python",
   "name": "python",
   "nbconvert_exporter": "python",
   "pygments_lexer": "ipython3",
   "version": "3.8.3"
  }
 },
 "nbformat": 4,
 "nbformat_minor": 4
}
